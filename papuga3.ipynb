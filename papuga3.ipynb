{
  "nbformat": 4,
  "nbformat_minor": 0,
  "metadata": {
    "colab": {
      "provenance": [],
      "authorship_tag": "ABX9TyNfoj7UIHn1H/vw3CF/uZ5D",
      "include_colab_link": true
    },
    "kernelspec": {
      "name": "python3",
      "display_name": "Python 3"
    },
    "language_info": {
      "name": "python"
    }
  },
  "cells": [
    {
      "cell_type": "markdown",
      "metadata": {
        "id": "view-in-github",
        "colab_type": "text"
      },
      "source": [
        "<a href=\"https://colab.research.google.com/github/YaYcArZ/test-sh2/blob/main/papuga3.ipynb\" target=\"_parent\"><img src=\"https://colab.research.google.com/assets/colab-badge.svg\" alt=\"Open In Colab\"/></a>"
      ]
    },
    {
      "cell_type": "code",
      "execution_count": 37,
      "metadata": {
        "colab": {
          "base_uri": "https://localhost:8080/",
          "height": 35
        },
        "id": "mbQOMXwfjyTc",
        "outputId": "5bf703f8-f9a1-4170-d6df-41463672fc7f"
      },
      "outputs": [
        {
          "output_type": "execute_result",
          "data": {
            "text/plain": [
              "'PDF file has been split into chapters and saved in /media/konstytucja_txt'"
            ],
            "application/vnd.google.colaboratory.intrinsic+json": {
              "type": "string"
            }
          },
          "metadata": {},
          "execution_count": 37
        }
      ],
      "source": [
        "import os\n",
        "import re\n",
        "import pdfplumber\n",
        "\n",
        "def split_pdf_to_text_by_chapters(source_file, destination_folder):\n",
        "    # Define chapter titles and patterns\n",
        "    chapter_titles = [\n",
        "        \"PREAMBUŁA\",\n",
        "        \"Rozdział I\", \"RZECZPOSPOLITA\",\n",
        "        \"Rozdział II\", \"WOLNOŚCI, PRAWA I OBOWIĄZKI CZŁOWIEKA I OBYWATELA\",\n",
        "        \"Rozdział III\", \"ŹRÓDŁA PRAWA\",\n",
        "        \"Rozdział IV\", \"SEJM I SENAT\",\n",
        "        \"Rozdział V\", \"PREZYDENT RZECZYPOSPOLITEJ POLSKIEJ\",\n",
        "        \"Rozdział VI\", \"RADA MINISTRÓW I ADMINISTRACJA RZĄDOWA\",\n",
        "        \"Rozdział VII\", \"SAMORZĄD TERYTORIALNY\",\n",
        "        \"Rozdział VIII\", \"SĄDY I TRYBUNAŁY\",\n",
        "        \"Rozdział IX\", \"ORGANY KONTROLI PAŃSTWOWEJ I OCHRONY PRAWA\",\n",
        "        \"Rozdział X\", \"FINANSE PUBLICZNE\",\n",
        "        \"Rozdział XI\", \"STANY NADZWYCZAJNE\",\n",
        "        \"Rozdział XII\", \"ZMIANA KONSTYTUCJI\",\n",
        "        \"Rozdział XIII\", \"PRZEPISY PRZEJŚCIOWE I KOŃCOWE\"\n",
        "    ]\n",
        "    chapter_patterns = [re.compile(re.escape(title)) for title in chapter_titles]\n",
        "\n",
        "    # Create destination folder if it does not exist\n",
        "    if not os.path.exists(destination_folder):\n",
        "        os.makedirs(destination_folder)\n",
        "\n",
        "    # Open the source PDF file\n",
        "    with pdfplumber.open(source_file) as pdf:\n",
        "        # Initialize variables\n",
        "        current_chapter = 0\n",
        "        chapter_text = \"\"\n",
        "        chapter_starts = {title: False for title in chapter_titles}\n",
        "\n",
        "        # Iterate over each page and split by chapters\n",
        "        for page in pdf.pages:\n",
        "            text = page.extract_text()\n",
        "            if text:\n",
        "                # Check if the page contains the start of a new chapter\n",
        "                for j, pattern in enumerate(chapter_patterns):\n",
        "                    if pattern.search(text) and not chapter_starts[chapter_titles[j]]:\n",
        "                        if current_chapter > 0:\n",
        "                            # Save the current chapter\n",
        "                            output_filename = f\"{destination_folder}/{chapter_titles[current_chapter].replace(' ', '_')}.txt\"\n",
        "                            with open(output_filename, \"w\") as output_file:\n",
        "                                output_file.write(chapter_text)\n",
        "\n",
        "                        # Start a new chapter\n",
        "                        chapter_text = \"\"\n",
        "                        current_chapter = j\n",
        "                        chapter_starts[chapter_titles[j]] = True\n",
        "                        break\n",
        "\n",
        "                chapter_text += text\n",
        "\n",
        "        # Save the last chapter\n",
        "        if current_chapter > 0:\n",
        "            output_filename = f\"{destination_folder}/{chapter_titles[current_chapter].replace(' ', '_')}.txt\"\n",
        "            with open(output_filename, \"w\") as output_file:\n",
        "                output_file.write(chapter_text)\n",
        "\n",
        "    return f\"PDF file has been split into chapters and saved in {destination_folder}\"\n",
        "\n",
        "# Define the source file and destination folder\n",
        "source_file = '/media/D19970483Lj.pdf'\n",
        "destination_folder = '/media/konstytucja_txt'\n",
        "\n",
        "# Call the function to split the PDF into text by chapters\n",
        "split_pdf_to_text_by_chapters(source_file, destination_folder)\n",
        "\n",
        "\n"
      ]
    },
    {
      "cell_type": "code",
      "source": [],
      "metadata": {
        "id": "xIl3z7LJGPZf"
      },
      "execution_count": null,
      "outputs": []
    },
    {
      "cell_type": "code",
      "source": [
        "import shutil\n",
        "\n",
        "# Ścieżka do głównego folderu\n",
        "main_folder = '/media/konstytucja'  # Zmień na właściwą ścieżkę\n",
        "\n",
        "# Usuń główny folder wraz z zawartością\n",
        "shutil.rmtree(main_folder)\n",
        "\n",
        "print(\"Foldery i pliki zostały usunięte.\")"
      ],
      "metadata": {
        "colab": {
          "base_uri": "https://localhost:8080/"
        },
        "id": "9Xe2NiIFlO_z",
        "outputId": "4e1d75ac-633d-4e8f-9e5a-2a4ecc089bca"
      },
      "execution_count": 36,
      "outputs": [
        {
          "output_type": "stream",
          "name": "stdout",
          "text": [
            "Foldery i pliki zostały usunięte.\n"
          ]
        }
      ]
    }
  ]
}